{
 "cells": [
  {
   "cell_type": "markdown",
   "source": [
    "## 读取数据"
   ],
   "metadata": {
    "collapsed": false,
    "pycharm": {
     "name": "#%% md\n"
    }
   }
  },
  {
   "cell_type": "code",
   "execution_count": 107,
   "metadata": {
    "collapsed": true,
    "pycharm": {
     "is_executing": false
    }
   },
   "outputs": [
    {
     "name": "stdout",
     "text": [
      "    Id       医生职称    医生科室 医生所在城市  医生有无简介  医生在线活动量 医生个人网站总访问量  总文章数  总患者数  \\\n",
      "0   35       主治医师   儿童心理科     北京       0        0      1,365     0     0   \n",
      "1   85      副主任医师  儿童保健中心     淄博       1      260     14,709     0     4   \n",
      "2   90      副主任医师   儿童保健科     郑州       1      200     15,074     0     0   \n",
      "3  125      副主任医师      儿科     上海       1        0     25,516     1     1   \n",
      "4  151    主任医师 教授    小儿外科     西安       1        0     13,963     1     1   \n",
      "5  153      副主任医师  小儿心脏外科     北京       1     3215    141,341     3   217   \n",
      "6  218      副主任医师      儿科     湖州       1        0      7,765     0     0   \n",
      "7  233      副主任医师   小儿心外科     上海       1        0     32,404     0    12   \n",
      "8  236  副主任医师 副教授      儿科     东营       0        0     14,809     0     0   \n",
      "9  237      副主任医师      儿科     忻州       0        0     15,194     0     2   \n",
      "\n",
      "   患者投票数  感谢信数  心意礼物数                                              医生欢迎词  \\\n",
      "0      0     0      0                                                NaN   \n",
      "1      0     0      0                                                NaN   \n",
      "2      2     0      0                                                NaN   \n",
      "3      3     0      0                                                NaN   \n",
      "4     13     3      1                                                NaN   \n",
      "5     12     8     56  治病救人，医者仁心                        阜外心血管病医院是我国最大...   \n",
      "6      2     0      0                                                NaN   \n",
      "7     16     1      0                                                NaN   \n",
      "8      4     1      0                                                NaN   \n",
      "9      0     0      0                                                NaN   \n",
      "\n",
      "        IST  \n",
      "0  0.000000  \n",
      "1  0.000272  \n",
      "2  0.000000  \n",
      "3  0.000039  \n",
      "4  0.000072  \n",
      "5  0.001535  \n",
      "6  0.000000  \n",
      "7  0.000370  \n",
      "8  0.000000  \n",
      "9  0.000132  \n"
     ],
     "output_type": "stream"
    }
   ],
   "source": [
    "import pandas as pd\n",
    "import numpy as np\n",
    "\n",
    "origin_data = pd.read_csv(\"D:\\桌面\\data_analysis\\计量经济学\\work\\erkeT4.csv\")\n",
    "print(origin_data.head(10))"
   ]
  },
  {
   "cell_type": "markdown",
   "source": [
    "## 删除无用变量\n"
   ],
   "metadata": {
    "collapsed": false,
    "pycharm": {
     "name": "#%% md\n"
    }
   }
  },
  {
   "cell_type": "code",
   "execution_count": 108,
   "outputs": [
    {
     "name": "stdout",
     "text": [
      "Index(['Id', '医生职称', '医生科室', '医生所在城市', '医生有无简介', '医生在线活动量', '医生个人网站总访问量',\n",
      "       '总文章数', '总患者数', '患者投票数', '感谢信数', '心意礼物数', '医生欢迎词', 'IST', 'IST0_1'],\n",
      "      dtype='object')\n",
      "   Id   医生职称    医生科室 医生所在城市  医生有无简介  医生在线活动量 医生个人网站总访问量  总文章数  总患者数  患者投票数  \\\n",
      "0  35   主治医师   儿童心理科     北京       0        0      1,365     0     0      0   \n",
      "1  85  副主任医师  儿童保健中心     淄博       1      260     14,709     0     4      0   \n",
      "\n",
      "   感谢信数  心意礼物数 医生欢迎词       IST    IST0_1  \n",
      "0     0      0   NaN  0.000000  0.000000  \n",
      "1     0      0   NaN  0.000272  0.019286  \n"
     ],
     "output_type": "stream"
    }
   ],
   "source": [
    "origin_data['IST0_1'] = (origin_data['IST'] - origin_data['IST'].min()) / (origin_data['IST'].max() - origin_data['IST'].min())\n",
    "print(origin_data.columns)\n",
    "print(origin_data.head(2))"
   ],
   "metadata": {
    "collapsed": false,
    "pycharm": {
     "name": "#%%\n",
     "is_executing": false
    }
   }
  },
  {
   "cell_type": "code",
   "execution_count": 109,
   "outputs": [
    {
     "name": "stdout",
     "text": [
      "      医生职称 医生所在城市  医生有无简介  总文章数  患者投票数  感谢信数  心意礼物数 医生欢迎词    IST0_1\n",
      "0     主治医师     北京       0     0      0     0      0   NaN  0.000000\n",
      "1    副主任医师     淄博       1     0      0     0      0   NaN  0.019286\n",
      "2    副主任医师     郑州       1     0      2     0      0   NaN  0.000000\n",
      "3    副主任医师     上海       1     1      3     0      0   NaN  0.002779\n",
      "4  主任医师 教授     西安       1     1     13     3      1   NaN  0.005079\n"
     ],
     "output_type": "stream"
    }
   ],
   "source": [
    "x = [0,2,5,6,8,13]\n",
    "origin_data.drop(origin_data.columns[x], axis=1, inplace=True)\n",
    "print(origin_data.head(5))"
   ],
   "metadata": {
    "collapsed": false,
    "pycharm": {
     "name": "#%%\n",
     "is_executing": false
    }
   }
  },
  {
   "cell_type": "markdown",
   "source": [
    "## 因变量处理 网站浏览转化率(IST)\n",
    "y -> log(y + 1)"
   ],
   "metadata": {
    "collapsed": false,
    "pycharm": {
     "name": "#%% md\n"
    }
   }
  },
  {
   "cell_type": "code",
   "execution_count": 110,
   "outputs": [
    {
     "name": "stdout",
     "text": [
      "    医生职称 医生所在城市  医生有无简介  总文章数  患者投票数  感谢信数  心意礼物数 医生欢迎词    IST0_1  log(IST)\n",
      "0   主治医师     北京       0     0      0     0      0   NaN  0.000000  0.000000\n",
      "1  副主任医师     淄博       1     0      0     0      0   NaN  0.019286  0.019102\n"
     ],
     "output_type": "stream"
    }
   ],
   "source": [
    "import math\n",
    "# .rename(columns={'a':'A','b':'B'},inplace=True) \n",
    "data = origin_data.copy()\n",
    "data['log(IST)'] = data['IST0_1'].apply(np.log1p)\n",
    "print(data.head(2))"
   ],
   "metadata": {
    "collapsed": false,
    "pycharm": {
     "name": "#%%\n",
     "is_executing": false
    }
   }
  },
  {
   "cell_type": "markdown",
   "source": [
    "## 自变量处理"
   ],
   "metadata": {
    "collapsed": false,
    "pycharm": {
     "name": "#%% md\n",
     "is_executing": false
    }
   }
  },
  {
   "cell_type": "markdown",
   "source": [
    "### 患者满意情况(SC)\n",
    "因为患者投票数，感谢信数，心意礼物数存在较强共线性，我们使用PCA将其合成一个变量"
   ],
   "metadata": {
    "collapsed": false
   }
  },
  {
   "cell_type": "code",
   "execution_count": 111,
   "outputs": [
    {
     "name": "stdout",
     "text": [
      "0     -10.444223\n",
      "1     -10.444223\n",
      "2      -9.952729\n",
      "3      -9.706982\n",
      "4      -5.818621\n",
      "         ...    \n",
      "447     1.988198\n",
      "448   -10.444223\n",
      "449     1.096944\n",
      "450    -8.504895\n",
      "451    -1.429061\n",
      "Name: 患者满意度, Length: 452, dtype: float64\n"
     ],
     "output_type": "stream"
    }
   ],
   "source": [
    "from sklearn.decomposition import PCA\n",
    "x = data[['患者投票数','感谢信数','心意礼物数']]\n",
    "\n",
    "pca=PCA(n_components=1)\n",
    "reduced_x=pca.fit_transform(x)\n",
    "# print(reduced_x)\n",
    "data['患者满意度'] = reduced_x\n",
    "print(data['患者满意度'])"
   ],
   "metadata": {
    "collapsed": false,
    "pycharm": {
     "name": "#%%\n",
     "is_executing": false
    }
   }
  },
  {
   "cell_type": "code",
   "execution_count": 112,
   "outputs": [
    {
     "name": "stdout",
     "text": [
      "    医生职称 医生所在城市  医生有无简介  总文章数  患者投票数  感谢信数  心意礼物数 医生欢迎词    IST0_1  log(IST)  \\\n",
      "0   主治医师     北京       0     0      0     0      0   NaN  0.000000  0.000000   \n",
      "1  副主任医师     淄博       1     0      0     0      0   NaN  0.019286  0.019102   \n",
      "\n",
      "       患者满意度  \n",
      "0 -10.444223  \n",
      "1 -10.444223  \n"
     ],
     "output_type": "stream"
    }
   ],
   "source": [
    "# # print(data.head(1))\n",
    "# # data.to_csv('D:/桌面/data_gym.csv')\n",
    "# g_data = pd.read_csv('D:/桌面/data_gym.csv')\n",
    "# print(g_data.columns)\n",
    "# print(g_data.head(1))\n",
    "print(data.head(2))\n",
    "g_data = data.copy()"
   ],
   "metadata": {
    "collapsed": false,
    "pycharm": {
     "name": "#%%\n",
     "is_executing": false
    }
   }
  },
  {
   "cell_type": "code",
   "execution_count": 113,
   "outputs": [
    {
     "name": "stdout",
     "text": [
      "Index(['医生职称', '医生所在城市', '医生有无简介', '总文章数', '医生欢迎词', 'log(IST)', '患者满意度'], dtype='object')\n"
     ],
     "output_type": "stream"
    }
   ],
   "source": [
    "g_data.drop(['患者投票数','感谢信数','心意礼物数','IST0_1'], axis=1, inplace=True)\n",
    "print(g_data.columns)\n",
    "# g_data.to_csv('D:/桌面/data_转换率—患者满意度.csv')"
   ],
   "metadata": {
    "collapsed": false,
    "pycharm": {
     "name": "#%%\n",
     "is_executing": false
    }
   }
  },
  {
   "cell_type": "markdown",
   "source": [
    "### 医生职称(TI)\n",
    "医生职称分为学校职称和医院职称\n",
    "学校职称中我们将划分为有或无\n",
    "医院职称我们划分为主任，主治，其他\n",
    "因为两个职称之间可能存在着联合效应，如教授对应的几乎都为主任医师，讲师、助理等对应的大多为主治医师\n",
    "教授的职称对主任医师可能为正效应，而助理的职称对主治医生可能为负效应\n",
    "所以我们将两种职称放在一起考虑\n",
    "共划分成2 * 3 = 6个类别\n",
    "设置五个虚拟变量，将医院职称：其他，学校职称：无作为基准变量\n",
    "0-其他，无\n",
    "1-其他，有\n",
    "2-主治，无\n",
    "3-主治，有\n",
    "4-主任，无\n",
    "5-主任，有"
   ],
   "metadata": {
    "collapsed": false,
    "pycharm": {
     "name": "#%% md\n",
     "is_executing": false
    }
   }
  },
  {
   "cell_type": "code",
   "execution_count": 114,
   "outputs": [
    {
     "name": "stdout",
     "text": [
      "0      2\n",
      "1      4\n",
      "2      4\n",
      "3      4\n",
      "4      5\n",
      "      ..\n",
      "447    3\n",
      "448    5\n",
      "449    5\n",
      "450    4\n",
      "451    5\n",
      "Name: profession_encoding, Length: 452, dtype: int64\n"
     ],
     "output_type": "stream"
    }
   ],
   "source": [
    "import pandas as pd\n",
    "def profession_transform(x):\n",
    "    # print(type(x))\n",
    "    s = [str(i) for i in x.split()]\n",
    "    # print(len(s),s)\n",
    "    if '主任' in s[0]:\n",
    "        if len(s) > 1:\n",
    "            return 5\n",
    "        else:\n",
    "            return 4\n",
    "    elif '主治' in s[0]:\n",
    "        if len(s) > 1:\n",
    "            return 3\n",
    "        else:\n",
    "            return 2\n",
    "    else:\n",
    "        if len(s) > 1:\n",
    "            return 1\n",
    "        else:\n",
    "            return 0\n",
    " \n",
    "p_data = g_data.copy()  \n",
    "p_data['profession_encoding'] = p_data['医生职称'].apply(lambda x:profession_transform(x))\n",
    "print(p_data['profession_encoding'])\n"
   ],
   "metadata": {
    "collapsed": false,
    "pycharm": {
     "name": "#%%\n",
     "is_executing": false
    }
   }
  },
  {
   "cell_type": "code",
   "execution_count": 115,
   "outputs": [
    {
     "data": {
      "text/plain": "  医生所在城市  医生有无简介  总文章数 医生欢迎词  log(IST)      患者满意度  profession_encoding\n0     北京       0     0   NaN  0.000000 -10.444223                    2\n1     淄博       1     0   NaN  0.019102 -10.444223                    4",
      "text/html": "<div>\n<style scoped>\n    .dataframe tbody tr th:only-of-type {\n        vertical-align: middle;\n    }\n\n    .dataframe tbody tr th {\n        vertical-align: top;\n    }\n\n    .dataframe thead th {\n        text-align: right;\n    }\n</style>\n<table border=\"1\" class=\"dataframe\">\n  <thead>\n    <tr style=\"text-align: right;\">\n      <th></th>\n      <th>医生所在城市</th>\n      <th>医生有无简介</th>\n      <th>总文章数</th>\n      <th>医生欢迎词</th>\n      <th>log(IST)</th>\n      <th>患者满意度</th>\n      <th>profession_encoding</th>\n    </tr>\n  </thead>\n  <tbody>\n    <tr>\n      <th>0</th>\n      <td>北京</td>\n      <td>0</td>\n      <td>0</td>\n      <td>NaN</td>\n      <td>0.000000</td>\n      <td>-10.444223</td>\n      <td>2</td>\n    </tr>\n    <tr>\n      <th>1</th>\n      <td>淄博</td>\n      <td>1</td>\n      <td>0</td>\n      <td>NaN</td>\n      <td>0.019102</td>\n      <td>-10.444223</td>\n      <td>4</td>\n    </tr>\n  </tbody>\n</table>\n</div>"
     },
     "metadata": {},
     "output_type": "execute_result",
     "execution_count": 115
    }
   ],
   "source": [
    "p_data.drop(['医生职称'], axis=1, inplace=True)\n",
    "p_data.head(2)"
   ],
   "metadata": {
    "collapsed": false,
    "pycharm": {
     "name": "#%%\n",
     "is_executing": false
    }
   }
  },
  {
   "cell_type": "code",
   "execution_count": 116,
   "outputs": [],
   "source": [
    "df = p_data.copy()\n",
    "df['城市等级'] = '其他'\n",
    "cshf ={\n",
    "    '一线城市' :['北京', '上海', '广州', '深圳'],\n",
    "    '二线城市' :['昆明', '福州', '无锡', '厦门', '哈尔滨', '长春', '南昌', '济南', '宁波', '大连', '贵阳', '温州', '石家庄', '泉州', '南宁', '金华', '常州', '珠海', '惠州', '嘉兴', '南通', '中山', '保定', '兰州', '台州', '徐州', '太原', '绍兴', '烟台', '海口', '乌鲁木齐', '呼和浩特'],\n",
    "    '新一线城市' :['成都', '重庆', '杭州', '武汉', '西安', '郑州', '青岛', '长沙', '天津', '苏州', '南京', '东莞', '沈阳', '合肥', '佛山'],\n",
    "\n",
    "}\n",
    "\n",
    "for key,value in cshf.items():\n",
    "    df.loc[df['医生所在城市'].isin(value),['城市等级']] = key\n",
    "df.loc[df['城市等级'] =='新一线城市',['城市等级']] = '二线城市'\n",
    "df['欢迎词字数'] = df['医生欢迎词'].str.len()\n",
    "df = df.fillna(0)\n",
    "df['字数平方'] = df['欢迎词字数']*df['欢迎词字数']"
   ],
   "metadata": {
    "collapsed": false,
    "pycharm": {
     "name": "#%%\n",
     "is_executing": false
    }
   }
  },
  {
   "cell_type": "code",
   "execution_count": 117,
   "outputs": [
    {
     "name": "stdout",
     "text": [
      "   医生有无简介  总文章数  log(IST)      患者满意度  profession_encoding  城市等级  欢迎词字数  字数平方\n",
      "0       0     0  0.000000 -10.444223                    2  一线城市    0.0   0.0\n",
      "1       1     0  0.019102 -10.444223                    4    其他    0.0   0.0\n"
     ],
     "output_type": "stream"
    }
   ],
   "source": [
    "df.drop(['医生所在城市','医生欢迎词'], axis=1, inplace=True)\n",
    "print(df.head(2))"
   ],
   "metadata": {
    "collapsed": false,
    "pycharm": {
     "name": "#%%\n",
     "is_executing": false
    }
   }
  },
  {
   "cell_type": "code",
   "execution_count": 118,
   "outputs": [
    {
     "data": {
      "text/plain": "   profession_1  profession_2  profession_3  profession_4  profession_5\n0             0             1             0             0             0\n1             0             0             0             1             0\n2             0             0             0             1             0\n3             0             0             0             1             0\n4             0             0             0             0             1",
      "text/html": "<div>\n<style scoped>\n    .dataframe tbody tr th:only-of-type {\n        vertical-align: middle;\n    }\n\n    .dataframe tbody tr th {\n        vertical-align: top;\n    }\n\n    .dataframe thead th {\n        text-align: right;\n    }\n</style>\n<table border=\"1\" class=\"dataframe\">\n  <thead>\n    <tr style=\"text-align: right;\">\n      <th></th>\n      <th>profession_1</th>\n      <th>profession_2</th>\n      <th>profession_3</th>\n      <th>profession_4</th>\n      <th>profession_5</th>\n    </tr>\n  </thead>\n  <tbody>\n    <tr>\n      <th>0</th>\n      <td>0</td>\n      <td>1</td>\n      <td>0</td>\n      <td>0</td>\n      <td>0</td>\n    </tr>\n    <tr>\n      <th>1</th>\n      <td>0</td>\n      <td>0</td>\n      <td>0</td>\n      <td>1</td>\n      <td>0</td>\n    </tr>\n    <tr>\n      <th>2</th>\n      <td>0</td>\n      <td>0</td>\n      <td>0</td>\n      <td>1</td>\n      <td>0</td>\n    </tr>\n    <tr>\n      <th>3</th>\n      <td>0</td>\n      <td>0</td>\n      <td>0</td>\n      <td>1</td>\n      <td>0</td>\n    </tr>\n    <tr>\n      <th>4</th>\n      <td>0</td>\n      <td>0</td>\n      <td>0</td>\n      <td>0</td>\n      <td>1</td>\n    </tr>\n  </tbody>\n</table>\n</div>"
     },
     "metadata": {},
     "output_type": "execute_result",
     "execution_count": 118
    }
   ],
   "source": [
    "p_data = df.copy()\n",
    "from sklearn import preprocessing\n",
    "dummy_pro = pd.get_dummies(p_data['profession_encoding'],prefix='profession')\n",
    "# dummy_pro.head(20)\n",
    "dummy_pro.drop(['profession_0'], axis=1, inplace=True)\n",
    "dummy_city = pd.get_dummies(p_data['城市等级'],prefix='city')\n",
    "dummy_city.drop(['city_其他'], axis=1, inplace=True)\n",
    "dummy_pro.head(5)"
   ],
   "metadata": {
    "collapsed": false,
    "pycharm": {
     "name": "#%%\n",
     "is_executing": false
    }
   }
  },
  {
   "cell_type": "code",
   "execution_count": 119,
   "outputs": [],
   "source": [
    "data = pd.concat([p_data,dummy_city,dummy_pro],axis=1)\n",
    "data['T'] = 4\n",
    "data.head(5)\n",
    "data.to_csv('D:/桌面/T4.csv')"
   ],
   "metadata": {
    "collapsed": false,
    "pycharm": {
     "name": "#%%\n",
     "is_executing": false
    }
   }
  },
  {
   "cell_type": "code",
   "execution_count": 120,
   "outputs": [
    {
     "name": "stdout",
     "text": [
      "   医生有无简介  总文章数  log(IST)      患者满意度  欢迎词字数  字数平方  city_一线城市  city_二线城市  \\\n",
      "0       0     0  0.000000 -10.444223    0.0   0.0          1          0   \n",
      "1       1     0  0.019102 -10.444223    0.0   0.0          0          0   \n",
      "\n",
      "   profession_1  profession_2  profession_3  profession_4  profession_5  T  \n",
      "0             0             1             0             0             0  4  \n",
      "1             0             0             0             1             0  4  \n"
     ],
     "output_type": "stream"
    }
   ],
   "source": [
    "data.drop(['城市等级','profession_encoding'], axis=1, inplace=True)\n",
    "print(data.head(2))\n",
    "data.to_csv('D:\\桌面\\data_analysis\\计量经济学\\work\\T4.csv')\n",
    "# data.to_csv('D:/桌面/total_data.csv')\n",
    "# df1 = data.loc[data['城市等级'] =='一线城市']\n",
    "# df2 = data.loc[data['城市等级'] =='二线城市']\n",
    "# df3 = data.loc[data['城市等级'] =='其他']\n",
    "# df1.to_csv(\"D:/桌面/data_一线城市.csv\")\n",
    "# df2.to_csv(\"D:/桌面/data_二线城市.csv\")\n",
    "# df3.to_csv(\"D:/桌面/data_其他.csv\")\n"
   ],
   "metadata": {
    "collapsed": false,
    "pycharm": {
     "name": "#%%\n",
     "is_executing": false
    }
   }
  },
  {
   "cell_type": "code",
   "execution_count": 124,
   "outputs": [],
   "source": [
    "data1 = pd.read_csv(\"D:\\桌面\\data_analysis\\计量经济学\\work\\T1.csv\")\n",
    "data2 = pd.read_csv(\"D:\\桌面\\data_analysis\\计量经济学\\work\\T2.csv\")\n",
    "data3 = pd.read_csv(\"D:\\桌面\\data_analysis\\计量经济学\\work\\T3.csv\")\n",
    "data4 = pd.read_csv(\"D:\\桌面\\data_analysis\\计量经济学\\work\\T4.csv\")"
   ],
   "metadata": {
    "collapsed": false,
    "pycharm": {
     "name": "#%%\n",
     "is_executing": false
    }
   }
  },
  {
   "cell_type": "code",
   "execution_count": 125,
   "outputs": [
    {
     "data": {
      "text/plain": "   Unnamed: 0    医生有无简介      总文章数  log(IST)      患者满意度      欢迎词字数  \\\n0      -226.5 -0.731278 -2.682819 -0.060283 -10.097708 -33.953744   \n\n          字数平方  city_一线城市  city_二线城市  profession_1  profession_2  \\\n0 -5978.046256   0.711454  -0.453744     -0.013216      0.773128   \n\n   profession_3  profession_4  profession_5    T  \n0     -0.050661     -0.334802     -0.253304  0.0  ",
      "text/html": "<div>\n<style scoped>\n    .dataframe tbody tr th:only-of-type {\n        vertical-align: middle;\n    }\n\n    .dataframe tbody tr th {\n        vertical-align: top;\n    }\n\n    .dataframe thead th {\n        text-align: right;\n    }\n</style>\n<table border=\"1\" class=\"dataframe\">\n  <thead>\n    <tr style=\"text-align: right;\">\n      <th></th>\n      <th>Unnamed: 0</th>\n      <th>医生有无简介</th>\n      <th>总文章数</th>\n      <th>log(IST)</th>\n      <th>患者满意度</th>\n      <th>欢迎词字数</th>\n      <th>字数平方</th>\n      <th>city_一线城市</th>\n      <th>city_二线城市</th>\n      <th>profession_1</th>\n      <th>profession_2</th>\n      <th>profession_3</th>\n      <th>profession_4</th>\n      <th>profession_5</th>\n      <th>T</th>\n    </tr>\n  </thead>\n  <tbody>\n    <tr>\n      <th>0</th>\n      <td>-226.5</td>\n      <td>-0.731278</td>\n      <td>-2.682819</td>\n      <td>-0.060283</td>\n      <td>-10.097708</td>\n      <td>-33.953744</td>\n      <td>-5978.046256</td>\n      <td>0.711454</td>\n      <td>-0.453744</td>\n      <td>-0.013216</td>\n      <td>0.773128</td>\n      <td>-0.050661</td>\n      <td>-0.334802</td>\n      <td>-0.253304</td>\n      <td>0.0</td>\n    </tr>\n  </tbody>\n</table>\n</div>"
     },
     "metadata": {},
     "output_type": "execute_result",
     "execution_count": 125
    }
   ],
   "source": [
    "data1 = data1 - data1.mean()\n",
    "data2 = data2 - data2.mean()\n",
    "data3 = data3 - data3.mean()\n",
    "data4 = data4 - data4.mean()\n",
    "data1.head(1)"
   ],
   "metadata": {
    "collapsed": false,
    "pycharm": {
     "name": "#%%\n",
     "is_executing": false
    }
   }
  },
  {
   "cell_type": "code",
   "execution_count": 126,
   "outputs": [],
   "source": [
    "data1.to_csv('D:\\桌面\\data_analysis\\计量经济学\\work\\T1chafen.csv')\n",
    "data2.to_csv('D:\\桌面\\data_analysis\\计量经济学\\work\\T2chafen.csv')\n",
    "data3.to_csv('D:\\桌面\\data_analysis\\计量经济学\\work\\T3chafen.csv')\n",
    "data4.to_csv('D:\\桌面\\data_analysis\\计量经济学\\work\\T4chafen.csv')\n"
   ],
   "metadata": {
    "collapsed": false,
    "pycharm": {
     "name": "#%%\n",
     "is_executing": false
    }
   }
  },
  {
   "cell_type": "code",
   "execution_count": 131,
   "outputs": [],
   "source": [
    "data1.drop(['Unnamed: 0'], axis=1, inplace=True)\n",
    "data2.drop(['Unnamed: 0'], axis=1, inplace=True)\n",
    "data3.drop(['Unnamed: 0'], axis=1, inplace=True)\n",
    "data4.drop(['Unnamed: 0'], axis=1, inplace=True)\n"
   ],
   "metadata": {
    "collapsed": false,
    "pycharm": {
     "name": "#%%\n",
     "is_executing": false
    }
   }
  },
  {
   "cell_type": "code",
   "execution_count": 132,
   "outputs": [
    {
     "data": {
      "text/plain": "     医生有无简介      总文章数  log(IST)      患者满意度      欢迎词字数         字数平方  city_一线城市  \\\n0 -0.731278 -2.682819 -0.060283 -10.097708 -33.953744 -5978.046256   0.711454   \n1  0.268722 -2.682819  0.000536  -8.637092 -33.953744 -5978.046256  -0.288546   \n\n   city_二线城市  profession_1  profession_2  profession_3  profession_4  \\\n0  -0.453744     -0.013216      0.773128     -0.050661     -0.334802   \n1   0.546256      0.986784     -0.226872     -0.050661     -0.334802   \n\n   profession_5    T  \n0     -0.253304  0.0  \n1     -0.253304  0.0  ",
      "text/html": "<div>\n<style scoped>\n    .dataframe tbody tr th:only-of-type {\n        vertical-align: middle;\n    }\n\n    .dataframe tbody tr th {\n        vertical-align: top;\n    }\n\n    .dataframe thead th {\n        text-align: right;\n    }\n</style>\n<table border=\"1\" class=\"dataframe\">\n  <thead>\n    <tr style=\"text-align: right;\">\n      <th></th>\n      <th>医生有无简介</th>\n      <th>总文章数</th>\n      <th>log(IST)</th>\n      <th>患者满意度</th>\n      <th>欢迎词字数</th>\n      <th>字数平方</th>\n      <th>city_一线城市</th>\n      <th>city_二线城市</th>\n      <th>profession_1</th>\n      <th>profession_2</th>\n      <th>profession_3</th>\n      <th>profession_4</th>\n      <th>profession_5</th>\n      <th>T</th>\n    </tr>\n  </thead>\n  <tbody>\n    <tr>\n      <th>0</th>\n      <td>-0.731278</td>\n      <td>-2.682819</td>\n      <td>-0.060283</td>\n      <td>-10.097708</td>\n      <td>-33.953744</td>\n      <td>-5978.046256</td>\n      <td>0.711454</td>\n      <td>-0.453744</td>\n      <td>-0.013216</td>\n      <td>0.773128</td>\n      <td>-0.050661</td>\n      <td>-0.334802</td>\n      <td>-0.253304</td>\n      <td>0.0</td>\n    </tr>\n    <tr>\n      <th>1</th>\n      <td>0.268722</td>\n      <td>-2.682819</td>\n      <td>0.000536</td>\n      <td>-8.637092</td>\n      <td>-33.953744</td>\n      <td>-5978.046256</td>\n      <td>-0.288546</td>\n      <td>0.546256</td>\n      <td>0.986784</td>\n      <td>-0.226872</td>\n      <td>-0.050661</td>\n      <td>-0.334802</td>\n      <td>-0.253304</td>\n      <td>0.0</td>\n    </tr>\n  </tbody>\n</table>\n</div>"
     },
     "metadata": {},
     "output_type": "execute_result",
     "execution_count": 132
    }
   ],
   "source": [
    "total_data = pd.concat([data1,data2,data3,data4])\n",
    "total_data.head(2)"
   ],
   "metadata": {
    "collapsed": false,
    "pycharm": {
     "name": "#%%\n",
     "is_executing": false
    }
   }
  },
  {
   "cell_type": "code",
   "execution_count": 135,
   "outputs": [
    {
     "name": "stdout",
     "text": [
      "(1810, 13)\n"
     ],
     "output_type": "stream"
    }
   ],
   "source": [
    "total_data.drop(['T'], axis=1, inplace=True)\n",
    "print(total_data.shape)"
   ],
   "metadata": {
    "collapsed": false,
    "pycharm": {
     "name": "#%%\n",
     "is_executing": false
    }
   }
  },
  {
   "cell_type": "code",
   "execution_count": 136,
   "outputs": [],
   "source": [
    "total_data.to_csv(r'D:\\桌面\\data_analysis\\计量经济学\\work\\total.csv')\n",
    "\n"
   ],
   "metadata": {
    "collapsed": false,
    "pycharm": {
     "name": "#%%\n",
     "is_executing": false
    }
   }
  },
  {
   "cell_type": "code",
   "execution_count": 142,
   "outputs": [],
   "source": [
    "# data = total_data.copy()\n",
    "# print(data['city_一线城市'].nunique())\n",
    "# df1 = data.loc[data['city_一线城市'] > 0]\n",
    "# df2 = data.loc[data['city_二线城市'] > 0]\n",
    "df3 = data.loc[(data['city_二线城市'] < 0) & (data['city_一线城市'] < 0)]\n",
    "# df3 = data.loc[data['城市等级'] =='其他']\n",
    "# df1.to_csv(\"D:\\桌面\\data_analysis\\计量经济学\\work\\一线.csv\")\n",
    "# df2.to_csv(\"D:\\桌面\\data_analysis\\计量经济学\\work\\二线.csv\")\n",
    "df3.to_csv(\"D:\\桌面\\data_analysis\\计量经济学\\work\\其他.csv\")\n",
    "\n"
   ],
   "metadata": {
    "collapsed": false,
    "pycharm": {
     "name": "#%%\n",
     "is_executing": false
    }
   }
  }
 ],
 "metadata": {
  "kernelspec": {
   "name": "python3",
   "language": "python",
   "display_name": "Python 3"
  },
  "language_info": {
   "codemirror_mode": {
    "name": "ipython",
    "version": 2
   },
   "file_extension": ".py",
   "mimetype": "text/x-python",
   "name": "python",
   "nbconvert_exporter": "python",
   "pygments_lexer": "ipython2",
   "version": "2.7.6"
  },
  "pycharm": {
   "stem_cell": {
    "cell_type": "raw",
    "source": [],
    "metadata": {
     "collapsed": false
    }
   }
  }
 },
 "nbformat": 4,
 "nbformat_minor": 0
}