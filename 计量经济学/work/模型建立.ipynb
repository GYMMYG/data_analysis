{
 "cells": [
  {
   "cell_type": "markdown",
   "source": [
    "## 删除无关变量"
   ],
   "metadata": {
    "collapsed": false,
    "pycharm": {
     "name": "#%% md\n"
    }
   }
  },
  {
   "cell_type": "code",
   "execution_count": 3,
   "metadata": {
    "collapsed": true,
    "pycharm": {
     "is_executing": false
    }
   },
   "outputs": [
    {
     "data": {
      "text/plain": "     医生有无简介      总文章数  log(IST)      患者满意度      欢迎词字数         字数平方  city_一线城市  \\\n0 -0.731278 -2.682819 -0.060283 -10.097708 -33.953744 -5978.046256   0.711454   \n1  0.268722 -2.682819  0.000536  -8.637092 -33.953744 -5978.046256  -0.288546   \n\n   city_二线城市  profession_1  profession_2  profession_3  profession_4  \\\n0  -0.453744     -0.013216      0.773128     -0.050661     -0.334802   \n1   0.546256      0.986784     -0.226872     -0.050661     -0.334802   \n\n   profession_5  intercept  \n0     -0.253304          1  \n1     -0.253304          1  ",
      "text/html": "<div>\n<style scoped>\n    .dataframe tbody tr th:only-of-type {\n        vertical-align: middle;\n    }\n\n    .dataframe tbody tr th {\n        vertical-align: top;\n    }\n\n    .dataframe thead th {\n        text-align: right;\n    }\n</style>\n<table border=\"1\" class=\"dataframe\">\n  <thead>\n    <tr style=\"text-align: right;\">\n      <th></th>\n      <th>医生有无简介</th>\n      <th>总文章数</th>\n      <th>log(IST)</th>\n      <th>患者满意度</th>\n      <th>欢迎词字数</th>\n      <th>字数平方</th>\n      <th>city_一线城市</th>\n      <th>city_二线城市</th>\n      <th>profession_1</th>\n      <th>profession_2</th>\n      <th>profession_3</th>\n      <th>profession_4</th>\n      <th>profession_5</th>\n      <th>intercept</th>\n    </tr>\n  </thead>\n  <tbody>\n    <tr>\n      <th>0</th>\n      <td>-0.731278</td>\n      <td>-2.682819</td>\n      <td>-0.060283</td>\n      <td>-10.097708</td>\n      <td>-33.953744</td>\n      <td>-5978.046256</td>\n      <td>0.711454</td>\n      <td>-0.453744</td>\n      <td>-0.013216</td>\n      <td>0.773128</td>\n      <td>-0.050661</td>\n      <td>-0.334802</td>\n      <td>-0.253304</td>\n      <td>1</td>\n    </tr>\n    <tr>\n      <th>1</th>\n      <td>0.268722</td>\n      <td>-2.682819</td>\n      <td>0.000536</td>\n      <td>-8.637092</td>\n      <td>-33.953744</td>\n      <td>-5978.046256</td>\n      <td>-0.288546</td>\n      <td>0.546256</td>\n      <td>0.986784</td>\n      <td>-0.226872</td>\n      <td>-0.050661</td>\n      <td>-0.334802</td>\n      <td>-0.253304</td>\n      <td>1</td>\n    </tr>\n  </tbody>\n</table>\n</div>"
     },
     "metadata": {},
     "output_type": "execute_result",
     "execution_count": 3
    }
   ],
   "source": [
    "import pandas as pd\n",
    "import numpy as np\n",
    "data_ori = pd.read_csv(r'D:\\桌面\\data_analysis\\计量经济学\\work\\total.csv')\n",
    "\n",
    "x = [0]\n",
    "data_ori.drop(data_ori.columns[x], axis=1, inplace=True)\n",
    "data = data_ori\n",
    "data['intercept'] = 1\n",
    "data.head(2)"
   ]
  },
  {
   "cell_type": "markdown",
   "source": [
    "## 建立总体模型\n"
   ],
   "metadata": {
    "collapsed": false,
    "pycharm": {
     "name": "#%% md\n"
    }
   }
  },
  {
   "cell_type": "code",
   "execution_count": 21,
   "outputs": [
    {
     "name": "stdout",
     "text": [
      "线性回归算法w值： [ 1.92936494e-03  4.35683895e-04  8.60063171e-05  8.80302153e-04\n",
      " -3.23414843e-06  3.91123756e-02  2.79607301e-02 -2.24178131e-02\n",
      " -1.00475437e-02 -1.82847413e-02 -9.34905688e-03 -1.52301430e-02\n",
      "  0.00000000e+00]\n",
      "线性回归算法b值:  0.03366503544981141\n"
     ],
     "output_type": "stream"
    }
   ],
   "source": [
    "# from sklearn.linear_model import LinearRegression\n",
    "# from sklearn.linear_model import LinearRegression\n",
    "# X = data.drop('log(IST)', axis=1)\n",
    "# lm = LinearRegression()\n",
    "# lm.fit(X, data['log(IST)'])\n",
    "# print('线性回归算法w值：', lm.coef_)\n",
    "# print('线性回归算法b值: ', lm.intercept_)"
   ],
   "metadata": {
    "collapsed": false,
    "pycharm": {
     "name": "#%%\n",
     "is_executing": false
    }
   }
  },
  {
   "cell_type": "code",
   "execution_count": 4,
   "outputs": [
    {
     "name": "stdout",
     "text": [
      "医生有无简介          4.606183e-03\n",
      "总文章数            4.983684e-04\n",
      "患者满意度           9.183658e-05\n",
      "欢迎词字数           7.917123e-04\n",
      "字数平方           -2.881028e-06\n",
      "city_一线城市       3.842371e-02\n",
      "city_二线城市       2.509793e-02\n",
      "profession_1   -2.864207e-02\n",
      "profession_2   -1.698018e-02\n",
      "profession_3   -2.117574e-02\n",
      "profession_4   -1.583196e-02\n",
      "profession_5   -1.970226e-02\n",
      "intercept       1.311885e-17\n",
      "dtype: float64\n",
      "                            OLS Regression Results                            \n",
      "==============================================================================\n",
      "Dep. Variable:               log(IST)   R-squared:                       0.084\n",
      "Model:                            OLS   Adj. R-squared:                  0.078\n",
      "Method:                 Least Squares   F-statistic:                     13.81\n",
      "Date:                Sat, 17 Apr 2021   Prob (F-statistic):           8.42e-28\n",
      "Time:                        10:40:57   Log-Likelihood:                 1939.9\n",
      "No. Observations:                1810   AIC:                            -3854.\n",
      "Df Residuals:                    1797   BIC:                            -3782.\n",
      "Df Model:                          12                                         \n",
      "Covariance Type:            nonrobust                                         \n",
      "================================================================================\n",
      "                   coef    std err          t      P>|t|      [0.025      0.975]\n",
      "--------------------------------------------------------------------------------\n",
      "医生有无简介           0.0046      0.005      0.907      0.365      -0.005       0.015\n",
      "总文章数             0.0005      0.000      1.553      0.121      -0.000       0.001\n",
      "患者满意度         9.184e-05   3.94e-05      2.329      0.020    1.45e-05       0.000\n",
      "欢迎词字数            0.0008   9.86e-05      8.034      0.000       0.001       0.001\n",
      "字数平方         -2.881e-06   4.19e-07     -6.878      0.000    -3.7e-06   -2.06e-06\n",
      "city_一线城市        0.0384      0.005      6.991      0.000       0.028       0.049\n",
      "city_二线城市        0.0251      0.005      5.135      0.000       0.016       0.035\n",
      "profession_1    -0.0286      0.019     -1.494      0.135      -0.066       0.009\n",
      "profession_2    -0.0170      0.007     -2.365      0.018      -0.031      -0.003\n",
      "profession_3    -0.0212      0.011     -1.908      0.057      -0.043       0.001\n",
      "profession_4    -0.0158      0.007     -2.226      0.026      -0.030      -0.002\n",
      "profession_5    -0.0197      0.008     -2.588      0.010      -0.035      -0.005\n",
      "intercept     1.312e-17      0.002   6.71e-15      1.000      -0.004       0.004\n",
      "==============================================================================\n",
      "Omnibus:                     1268.137   Durbin-Watson:                   1.939\n",
      "Prob(Omnibus):                  0.000   Jarque-Bera (JB):            17834.085\n",
      "Skew:                           3.199   Prob(JB):                         0.00\n",
      "Kurtosis:                      16.983   Cond. No.                     1.63e+05\n",
      "==============================================================================\n",
      "\n",
      "Notes:\n",
      "[1] Standard Errors assume that the covariance matrix of the errors is correctly specified.\n",
      "[2] The condition number is large, 1.63e+05. This might indicate that there are\n",
      "strong multicollinearity or other numerical problems.\n"
     ],
     "output_type": "stream"
    }
   ],
   "source": [
    "from statsmodels.api import OLS\n",
    "X = data.drop('log(IST)', axis=1)\n",
    "results = OLS( data['log(IST)'],X).fit()\n",
    "print(results.params)\n",
    "print(results.summary())\n",
    "\n"
   ],
   "metadata": {
    "collapsed": false,
    "pycharm": {
     "name": "#%%\n",
     "is_executing": false
    }
   }
  },
  {
   "cell_type": "code",
   "execution_count": 2,
   "outputs": [
    {
     "name": "stdout",
     "text": [
      "医生有无简介          0.028711\n",
      "总文章数            0.000182\n",
      "患者满意度           0.000098\n",
      "欢迎词字数           0.000855\n",
      "字数平方           -0.000003\n",
      "profession_1    0.627000\n",
      "profession_2   -0.038959\n",
      "profession_3   -0.060862\n",
      "profession_4   -0.062257\n",
      "profession_5   -0.078852\n",
      "intercept       0.021470\n",
      "dtype: float64\n",
      "                            OLS Regression Results                            \n",
      "==============================================================================\n",
      "Dep. Variable:               log(IST)   R-squared:                       0.078\n",
      "Model:                            OLS   Adj. R-squared:                  0.060\n",
      "Method:                 Least Squares   F-statistic:                     4.345\n",
      "Date:                Sat, 17 Apr 2021   Prob (F-statistic):           7.40e-06\n",
      "Time:                        15:23:17   Log-Likelihood:                 489.88\n",
      "No. Observations:                 524   AIC:                            -957.8\n",
      "Df Residuals:                     513   BIC:                            -910.9\n",
      "Df Model:                          10                                         \n",
      "Covariance Type:            nonrobust                                         \n",
      "================================================================================\n",
      "                   coef    std err          t      P>|t|      [0.025      0.975]\n",
      "--------------------------------------------------------------------------------\n",
      "医生有无简介           0.0287      0.013      2.263      0.024       0.004       0.054\n",
      "总文章数             0.0002      0.001      0.269      0.788      -0.001       0.002\n",
      "患者满意度         9.813e-05   4.79e-05      2.048      0.041    3.99e-06       0.000\n",
      "欢迎词字数            0.0009      0.000      3.791      0.000       0.000       0.001\n",
      "字数平方         -2.966e-06   9.24e-07     -3.211      0.001   -4.78e-06   -1.15e-06\n",
      "profession_1     0.6270      4.498      0.139      0.889      -8.210       9.464\n",
      "profession_2    -0.0390      0.015     -2.517      0.012      -0.069      -0.009\n",
      "profession_3    -0.0609      0.028     -2.203      0.028      -0.115      -0.007\n",
      "profession_4    -0.0623      0.015     -4.151      0.000      -0.092      -0.033\n",
      "profession_5    -0.0789      0.016     -4.917      0.000      -0.110      -0.047\n",
      "intercept        0.0215      0.052      0.410      0.682      -0.081       0.124\n",
      "==============================================================================\n",
      "Omnibus:                      314.049   Durbin-Watson:                   1.990\n",
      "Prob(Omnibus):                  0.000   Jarque-Bera (JB):             2579.413\n",
      "Skew:                           2.578   Prob(JB):                         0.00\n",
      "Kurtosis:                      12.569   Cond. No.                     2.19e+07\n",
      "==============================================================================\n",
      "\n",
      "Notes:\n",
      "[1] Standard Errors assume that the covariance matrix of the errors is correctly specified.\n",
      "[2] The condition number is large, 2.19e+07. This might indicate that there are\n",
      "strong multicollinearity or other numerical problems.\n"
     ],
     "output_type": "stream"
    }
   ],
   "source": [
    "import pandas as pd\n",
    "import numpy as np\n",
    "# 一线城市情况\n",
    "data_ori = pd.read_csv(\"D:\\桌面\\data_analysis\\计量经济学\\work\\一线.csv\")\n",
    "data_ori.head(2)\n",
    "\n",
    "x = [0,7,8]\n",
    "data_ori.drop(data_ori.columns[x], axis=1, inplace=True)\n",
    "data = data_ori\n",
    "data['intercept'] = 1\n",
    "data.head(2)\n",
    "from statsmodels.api import OLS\n",
    "X = data.drop('log(IST)', axis=1)\n",
    "results = OLS( data['log(IST)'],X).fit()\n",
    "print(results.params)\n",
    "print(results.summary())"
   ],
   "metadata": {
    "collapsed": false,
    "pycharm": {
     "name": "#%%\n",
     "is_executing": false
    }
   }
  },
  {
   "cell_type": "code",
   "execution_count": 3,
   "outputs": [
    {
     "name": "stdout",
     "text": [
      "医生有无简介         -0.013818\n",
      "总文章数            0.000987\n",
      "患者满意度           0.000315\n",
      "欢迎词字数           0.001010\n",
      "字数平方           -0.000004\n",
      "profession_1    0.015091\n",
      "profession_2   -0.023958\n",
      "profession_3   -0.008493\n",
      "profession_4   -0.005617\n",
      "profession_5   -0.001877\n",
      "intercept       0.002682\n",
      "dtype: float64\n",
      "                            OLS Regression Results                            \n",
      "==============================================================================\n",
      "Dep. Variable:               log(IST)   R-squared:                       0.082\n",
      "Model:                            OLS   Adj. R-squared:                  0.071\n",
      "Method:                 Least Squares   F-statistic:                     7.248\n",
      "Date:                Sat, 17 Apr 2021   Prob (F-statistic):           4.95e-11\n",
      "Time:                        15:23:23   Log-Likelihood:                 842.05\n",
      "No. Observations:                 818   AIC:                            -1662.\n",
      "Df Residuals:                     807   BIC:                            -1610.\n",
      "Df Model:                          10                                         \n",
      "Covariance Type:            nonrobust                                         \n",
      "================================================================================\n",
      "                   coef    std err          t      P>|t|      [0.025      0.975]\n",
      "--------------------------------------------------------------------------------\n",
      "医生有无简介          -0.0138      0.008     -1.715      0.087      -0.030       0.002\n",
      "总文章数             0.0010      0.001      1.971      0.049     4.1e-06       0.002\n",
      "患者满意度            0.0003      0.000      1.497      0.135    -9.8e-05       0.001\n",
      "欢迎词字数            0.0010      0.000      6.864      0.000       0.001       0.001\n",
      "字数平方         -4.144e-06   6.38e-07     -6.494      0.000    -5.4e-06   -2.89e-06\n",
      "profession_1     0.0151      0.031      0.483      0.629      -0.046       0.076\n",
      "profession_2    -0.0240      0.012     -2.014      0.044      -0.047      -0.001\n",
      "profession_3    -0.0085      0.017     -0.508      0.612      -0.041       0.024\n",
      "profession_4    -0.0056      0.012     -0.471      0.637      -0.029       0.018\n",
      "profession_5    -0.0019      0.012     -0.153      0.879      -0.026       0.022\n",
      "intercept        0.0027      0.003      0.803      0.422      -0.004       0.009\n",
      "==============================================================================\n",
      "Omnibus:                      580.787   Durbin-Watson:                   1.897\n",
      "Prob(Omnibus):                  0.000   Jarque-Bera (JB):             7059.598\n",
      "Skew:                           3.194   Prob(JB):                         0.00\n",
      "Kurtosis:                      15.896   Cond. No.                     1.53e+05\n",
      "==============================================================================\n",
      "\n",
      "Notes:\n",
      "[1] Standard Errors assume that the covariance matrix of the errors is correctly specified.\n",
      "[2] The condition number is large, 1.53e+05. This might indicate that there are\n",
      "strong multicollinearity or other numerical problems.\n"
     ],
     "output_type": "stream"
    }
   ],
   "source": [
    "# 二线城市情况\n",
    "data_ori = pd.read_csv(\"D:\\桌面\\data_analysis\\计量经济学\\work\\二线.csv\")\n",
    "# data_ori.head(2)\n",
    "\n",
    "x = [0,7,8]\n",
    "data_ori.drop(data_ori.columns[x], axis=1, inplace=True)\n",
    "data = data_ori\n",
    "data['intercept'] = 1\n",
    "data.head(2)\n",
    "from statsmodels.api import OLS\n",
    "X = data.drop('log(IST)', axis=1)\n",
    "results = OLS( data['log(IST)'],X).fit()\n",
    "print(results.params)\n",
    "print(results.summary())\n",
    "\n",
    "\n"
   ],
   "metadata": {
    "collapsed": false,
    "pycharm": {
     "name": "#%%\n",
     "is_executing": false
    }
   }
  },
  {
   "cell_type": "code",
   "execution_count": 4,
   "outputs": [
    {
     "name": "stdout",
     "text": [
      "医生有无简介          5.232539e-03\n",
      "总文章数            4.597325e-04\n",
      "患者满意度           1.408618e-04\n",
      "欢迎词字数           2.862017e-04\n",
      "字数平方           -3.850220e-07\n",
      "profession_1   -1.832719e-02\n",
      "profession_2    1.590178e-02\n",
      "profession_3   -4.596372e-03\n",
      "profession_4    1.467249e-02\n",
      "profession_5    1.805588e-02\n",
      "intercept      -2.043300e-02\n",
      "dtype: float64\n",
      "                            OLS Regression Results                            \n",
      "==============================================================================\n",
      "Dep. Variable:               log(IST)   R-squared:                       0.105\n",
      "Model:                            OLS   Adj. R-squared:                  0.085\n",
      "Method:                 Least Squares   F-statistic:                     5.358\n",
      "Date:                Sat, 17 Apr 2021   Prob (F-statistic):           1.67e-07\n",
      "Time:                        15:23:27   Log-Likelihood:                 739.55\n",
      "No. Observations:                 468   AIC:                            -1457.\n",
      "Df Residuals:                     457   BIC:                            -1411.\n",
      "Df Model:                          10                                         \n",
      "Covariance Type:            nonrobust                                         \n",
      "================================================================================\n",
      "                   coef    std err          t      P>|t|      [0.025      0.975]\n",
      "--------------------------------------------------------------------------------\n",
      "医生有无简介           0.0052      0.005      0.959      0.338      -0.005       0.016\n",
      "总文章数             0.0005      0.001      0.875      0.382      -0.001       0.001\n",
      "患者满意度            0.0001      0.002      0.084      0.933      -0.003       0.003\n",
      "欢迎词字数            0.0003      0.000      2.117      0.035    2.05e-05       0.001\n",
      "字数平方          -3.85e-07   6.01e-07     -0.641      0.522   -1.57e-06    7.96e-07\n",
      "profession_1    -0.0183      0.016     -1.145      0.253      -0.050       0.013\n",
      "profession_2     0.0159      0.008      1.977      0.049    9.48e-05       0.032\n",
      "profession_3    -0.0046      0.013     -0.350      0.726      -0.030       0.021\n",
      "profession_4     0.0147      0.008      1.853      0.065      -0.001       0.030\n",
      "profession_5     0.0181      0.010      1.863      0.063      -0.001       0.037\n",
      "intercept       -0.0204      0.016     -1.316      0.189      -0.051       0.010\n",
      "==============================================================================\n",
      "Omnibus:                      253.834   Durbin-Watson:                   1.901\n",
      "Prob(Omnibus):                  0.000   Jarque-Bera (JB):             1445.888\n",
      "Skew:                           2.398   Prob(JB):                         0.00\n",
      "Kurtosis:                      10.151   Cond. No.                     1.05e+05\n",
      "==============================================================================\n",
      "\n",
      "Notes:\n",
      "[1] Standard Errors assume that the covariance matrix of the errors is correctly specified.\n",
      "[2] The condition number is large, 1.05e+05. This might indicate that there are\n",
      "strong multicollinearity or other numerical problems.\n"
     ],
     "output_type": "stream"
    }
   ],
   "source": [
    "# 其他城市情况\n",
    "data_ori = pd.read_csv(\"D:\\桌面\\data_analysis\\计量经济学\\work\\其他.csv\")\n",
    "# data_ori.head(2)\n",
    "\n",
    "x = [0,7,8]\n",
    "data_ori.drop(data_ori.columns[x], axis=1, inplace=True)\n",
    "data = data_ori\n",
    "data['intercept'] = 1\n",
    "data.head(2)\n",
    "from statsmodels.api import OLS\n",
    "X = data.drop('log(IST)', axis=1)\n",
    "results = OLS( data['log(IST)'],X).fit()\n",
    "print(results.params)\n",
    "print(results.summary())\n",
    "\n"
   ],
   "metadata": {
    "collapsed": false,
    "pycharm": {
     "name": "#%%\n",
     "is_executing": false
    }
   }
  }
 ],
 "metadata": {
  "kernelspec": {
   "display_name": "Python 3",
   "language": "python",
   "name": "python3"
  },
  "language_info": {
   "codemirror_mode": {
    "name": "ipython",
    "version": 2
   },
   "file_extension": ".py",
   "mimetype": "text/x-python",
   "name": "python",
   "nbconvert_exporter": "python",
   "pygments_lexer": "ipython2",
   "version": "2.7.6"
  },
  "pycharm": {
   "stem_cell": {
    "cell_type": "raw",
    "source": [],
    "metadata": {
     "collapsed": false
    }
   }
  }
 },
 "nbformat": 4,
 "nbformat_minor": 0
}