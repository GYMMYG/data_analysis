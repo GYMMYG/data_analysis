{
 "cells": [
  {
   "cell_type": "markdown",
   "source": [
    "## 读取数据"
   ],
   "metadata": {
    "collapsed": false,
    "pycharm": {
     "name": "#%% md\n"
    }
   }
  },
  {
   "cell_type": "code",
   "execution_count": 2,
   "metadata": {
    "collapsed": true,
    "pycharm": {
     "is_executing": false
    }
   },
   "outputs": [
    {
     "name": "stdout",
     "text": [
      "     Id   医生职称  医生科室 医生所在城市  医生有无简介  医生在线活动量 医生个人网站总访问量  总文章数  总患者数  患者投票数  \\\n",
      "0  7296   主治医师    儿科     北京       1      305      2,812     0    41      0   \n",
      "1  7795   主治医师    儿科     成都       0     1950     14,619     5   212      1   \n",
      "2  5666   住院医师  小儿外科     青岛       0     5145     49,857    12   567      0   \n",
      "3  7634   主任医师  小儿内科     济南       1      990     14,775     1   147     10   \n",
      "4  2393  副主任医师    儿科     北京       1      460      6,034     0    54      1   \n",
      "\n",
      "   感谢信数  心意礼物数                                              医生欢迎词  \\\n",
      "0     0      1  儿童强，中国强！                        儿科大夫的使命：让每个儿童拥...   \n",
      "1     1      0  专业有爱的儿科医生                        作为一位女儿的爸爸，我深深...   \n",
      "2     2      2  山东大学齐鲁医院（青岛）儿外科竭诚为每一位患儿服务...                  ...   \n",
      "3     1      0                                                NaN   \n",
      "4     0      0                                                NaN   \n",
      "\n",
      "   Mark(不要使用该列)       IST  IST(0_1)  IST0_1erke  \n",
      "0        215660  0.014580  0.363001    1.000000  \n",
      "1        229318  0.014502  0.361042    0.994603  \n",
      "2        170930  0.011373  0.283137    0.779989  \n",
      "3        224436  0.009949  0.247702    0.682372  \n",
      "4         73143  0.008949  0.222806    0.613790  \n"
     ],
     "output_type": "stream"
    }
   ],
   "source": [
    "import pandas as pd\n",
    "import numpy as np\n",
    "\n",
    "origin_data = pd.read_csv(\"D:/桌面/儿科数据.csv\")\n",
    "print(origin_data.head(5))"
   ]
  },
  {
   "cell_type": "markdown",
   "source": [
    "## 删除无用变量\n"
   ],
   "metadata": {
    "collapsed": false,
    "pycharm": {
     "name": "#%% md\n"
    }
   }
  },
  {
   "cell_type": "code",
   "execution_count": 31,
   "outputs": [
    {
     "name": "stdout",
     "text": [
      "Index(['Id', '医生职称', '医生科室', '医生所在城市', '医生有无简介', '医生在线活动量', '医生个人网站总访问量',\n",
      "       '总文章数', '总患者数', '患者投票数', '感谢信数', '心意礼物数', '医生欢迎词', 'Mark(不要使用该列)',\n",
      "       'IST', 'IST(0_1)', 'IST0_1erke'],\n",
      "      dtype='object')\n",
      "    医生职称 医生所在城市  医生有无简介  总文章数  患者投票数  感谢信数  心意礼物数  \\\n",
      "0   主治医师     北京       1     0      0     0      1   \n",
      "1   主治医师     成都       0     5      1     1      0   \n",
      "2   住院医师     青岛       0    12      0     2      2   \n",
      "3   主任医师     济南       1     1     10     1      0   \n",
      "4  副主任医师     北京       1     0      1     0      0   \n",
      "\n",
      "                                               医生欢迎词  IST0_1erke  \n",
      "0  儿童强，中国强！                        儿科大夫的使命：让每个儿童拥...    1.000000  \n",
      "1  专业有爱的儿科医生                        作为一位女儿的爸爸，我深深...    0.994603  \n",
      "2  山东大学齐鲁医院（青岛）儿外科竭诚为每一位患儿服务...                  ...    0.779989  \n",
      "3                                                NaN    0.682372  \n",
      "4                                                NaN    0.613790  \n"
     ],
     "output_type": "stream"
    }
   ],
   "source": [
    "print(origin_data.columns)\n",
    "x = [0,2,5,6,8,13,14,15]\n",
    "origin_data.drop(origin_data.columns[x], axis=1, inplace=True)\n",
    "print(origin_data.head(5))"
   ],
   "metadata": {
    "collapsed": false,
    "pycharm": {
     "name": "#%%\n",
     "is_executing": false
    }
   }
  },
  {
   "cell_type": "markdown",
   "source": [
    "## 因变量处理 网站浏览转化率(IST)\n",
    "y -> log(y + 1)"
   ],
   "metadata": {
    "collapsed": false,
    "pycharm": {
     "name": "#%% md\n"
    }
   }
  },
  {
   "cell_type": "code",
   "execution_count": 34,
   "outputs": [
    {
     "name": "stdout",
     "text": [
      "   医生职称 医生所在城市  医生有无简介  总文章数  患者投票数  感谢信数  心意礼物数  \\\n",
      "0  主治医师     北京       1     0      0     0      1   \n",
      "1  主治医师     成都       0     5      1     1      0   \n",
      "\n",
      "                                               医生欢迎词  IST0_1erke  log(IST)  \n",
      "0  儿童强，中国强！                        儿科大夫的使命：让每个儿童拥...    1.000000  0.693147  \n",
      "1  专业有爱的儿科医生                        作为一位女儿的爸爸，我深深...    0.994603  0.690445  \n"
     ],
     "output_type": "stream"
    }
   ],
   "source": [
    "import math\n",
    "# .rename(columns={'a':'A','b':'B'},inplace=True) \n",
    "data = origin_data.copy()\n",
    "data['log(IST)'] = data['IST0_1erke'].apply(np.log1p)\n",
    "print(data.head(2))"
   ],
   "metadata": {
    "collapsed": false,
    "pycharm": {
     "name": "#%%\n",
     "is_executing": false
    }
   }
  },
  {
   "cell_type": "markdown",
   "source": [
    "## 自变量处理"
   ],
   "metadata": {
    "collapsed": false,
    "pycharm": {
     "name": "#%% md\n",
     "is_executing": false
    }
   }
  },
  {
   "cell_type": "markdown",
   "source": [
    "### 患者满意情况(SC)\n",
    "因为患者投票数，感谢信数，心意礼物数存在较强共线性，我们使用PCA将其合成一个变量"
   ],
   "metadata": {
    "collapsed": false
   }
  },
  {
   "cell_type": "code",
   "execution_count": 40,
   "outputs": [
    {
     "name": "stdout",
     "text": [
      "0      -9.136464\n",
      "1      -9.717606\n",
      "2      -7.881956\n",
      "3      -7.616372\n",
      "4      -9.864238\n",
      "         ...    \n",
      "449   -10.097708\n",
      "450   -10.097708\n",
      "451    -7.616372\n",
      "452   -10.097708\n",
      "453    -8.550253\n",
      "Name: 患者满意度, Length: 454, dtype: float64\n"
     ],
     "output_type": "stream"
    }
   ],
   "source": [
    "from sklearn.decomposition import PCA\n",
    "x = data[['患者投票数','感谢信数','心意礼物数']]\n",
    "\n",
    "pca=PCA(n_components=1)\n",
    "reduced_x=pca.fit_transform(x)\n",
    "# print(reduced_x)\n",
    "data['患者满意度'] = reduced_x\n",
    "print(data['患者满意度'])"
   ],
   "metadata": {
    "collapsed": false,
    "pycharm": {
     "name": "#%%\n",
     "is_executing": false
    }
   }
  },
  {
   "cell_type": "code",
   "execution_count": 55,
   "outputs": [
    {
     "name": "stdout",
     "text": [
      "Index(['Unnamed: 0', '医生职称', '医生所在城市', '医生有无简介', '总文章数', '患者投票数', '感谢信数',\n",
      "       '心意礼物数', '医生欢迎词', 'IST0_1erke', 'log(IST)', '患者满意度'],\n",
      "      dtype='object')\n",
      "   Unnamed: 0  医生职称 医生所在城市  医生有无简介  总文章数  患者投票数  感谢信数  心意礼物数  \\\n",
      "0           0  主治医师     北京       1     0      0     0      1   \n",
      "\n",
      "                                               医生欢迎词  IST0_1erke  log(IST)  \\\n",
      "0  儿童强，中国强！                        儿科大夫的使命：让每个儿童拥...         1.0  0.693147   \n",
      "\n",
      "      患者满意度  \n",
      "0 -9.136464  \n"
     ],
     "output_type": "stream"
    }
   ],
   "source": [
    "# print(data.head(1))\n",
    "# data.to_csv('D:/桌面/data_gym.csv')\n",
    "g_data = pd.read_csv('D:/桌面/data_gym.csv')\n",
    "print(g_data.columns)\n",
    "print(g_data.head(1))\n"
   ],
   "metadata": {
    "collapsed": false,
    "pycharm": {
     "name": "#%%\n",
     "is_executing": false
    }
   }
  },
  {
   "cell_type": "code",
   "execution_count": 56,
   "outputs": [
    {
     "name": "stdout",
     "text": [
      "Index(['医生职称', '医生所在城市', '医生有无简介', '总文章数', '医生欢迎词', 'IST0_1erke', 'log(IST)',\n",
      "       '患者满意度'],\n",
      "      dtype='object')\n"
     ],
     "output_type": "stream"
    }
   ],
   "source": [
    "g_data.drop(['患者投票数','感谢信数','心意礼物数','Unnamed: 0'], axis=1, inplace=True)\n",
    "print(g_data.columns)\n",
    "g_data.to_csv('D:/桌面/data_转换率—患者满意度.csv')"
   ],
   "metadata": {
    "collapsed": false,
    "pycharm": {
     "name": "#%%\n",
     "is_executing": false
    }
   }
  },
  {
   "cell_type": "markdown",
   "source": [
    "### 医生职称(TI)\n",
    "医生职称分为学校职称和医院职称\n",
    "学校职称中我们将划分为有或无\n",
    "医院职称我们划分为主任，主治，其他\n",
    "因为两个职称之间可能存在着联合效应，如教授对应的几乎都为主任医师，讲师、助理等对应的大多为主治医师\n",
    "教授的职称对主任医师可能为正效应，而助理的职称对主治医生可能为负效应\n",
    "所以我们将两种职称放在一起考虑\n",
    "共划分成2 * 3 = 6个类别\n",
    "设置五个虚拟变量，将医院职称：其他，学校职称：无作为基准变量\n",
    "0-其他，无\n",
    "1-其他，有\n",
    "2-主治，无\n",
    "3-主治，有\n",
    "4-主任，无\n",
    "5-主任，有"
   ],
   "metadata": {
    "collapsed": false,
    "pycharm": {
     "name": "#%% md\n",
     "is_executing": false
    }
   }
  },
  {
   "cell_type": "code",
   "execution_count": 2,
   "outputs": [
    {
     "name": "stdout",
     "text": [
      "0      2\n",
      "1      2\n",
      "2      0\n",
      "3      4\n",
      "4      4\n",
      "      ..\n",
      "449    4\n",
      "450    4\n",
      "451    5\n",
      "452    2\n",
      "453    5\n",
      "Name: profession_encoding, Length: 454, dtype: int64\n"
     ],
     "output_type": "stream"
    }
   ],
   "source": [
    "import pandas as pd\n",
    "def profession_transform(x):\n",
    "    # print(type(x))\n",
    "    s = [str(i) for i in x.split()]\n",
    "    # print(len(s),s)\n",
    "    if '主任' in s[0]:\n",
    "        if len(s) > 1:\n",
    "            return 5\n",
    "        else:\n",
    "            return 4\n",
    "    elif '主治' in s[0]:\n",
    "        if len(s) > 1:\n",
    "            return 3\n",
    "        else:\n",
    "            return 2\n",
    "    else:\n",
    "        if len(s) > 1:\n",
    "            return 1\n",
    "        else:\n",
    "            return 0\n",
    " \n",
    "p_data = pd.read_csv('D:/桌面/总.csv')   \n",
    "p_data['profession_encoding'] = p_data['医生职称'].apply(lambda x:profession_transform(x))\n",
    "print(p_data['profession_encoding'])\n"
   ],
   "metadata": {
    "collapsed": false,
    "pycharm": {
     "name": "#%%\n",
     "is_executing": false
    }
   }
  },
  {
   "cell_type": "code",
   "execution_count": 3,
   "outputs": [
    {
     "data": {
      "text/plain": "   医生职称 医生所在城市  医生有无简介  总文章数  \\\n0  主治医师     北京       1     0   \n1  主治医师     成都       0     5   \n\n                                               医生欢迎词  IST0_1erke  log(IST)  \\\n0  儿童强，中国强！                        儿科大夫的使命：让每个儿童拥...    1.000000  0.693147   \n1  专业有爱的儿科医生                        作为一位女儿的爸爸，我深深...    0.994603  0.690445   \n\n      患者满意度  城市等级  欢迎词字数     字数平方  profession_encoding  \n0 -9.136464  一线城市   59.0   3481.0                    2  \n1 -9.717606  二线城市  128.0  16384.0                    2  ",
      "text/html": "<div>\n<style scoped>\n    .dataframe tbody tr th:only-of-type {\n        vertical-align: middle;\n    }\n\n    .dataframe tbody tr th {\n        vertical-align: top;\n    }\n\n    .dataframe thead th {\n        text-align: right;\n    }\n</style>\n<table border=\"1\" class=\"dataframe\">\n  <thead>\n    <tr style=\"text-align: right;\">\n      <th></th>\n      <th>医生职称</th>\n      <th>医生所在城市</th>\n      <th>医生有无简介</th>\n      <th>总文章数</th>\n      <th>医生欢迎词</th>\n      <th>IST0_1erke</th>\n      <th>log(IST)</th>\n      <th>患者满意度</th>\n      <th>城市等级</th>\n      <th>欢迎词字数</th>\n      <th>字数平方</th>\n      <th>profession_encoding</th>\n    </tr>\n  </thead>\n  <tbody>\n    <tr>\n      <th>0</th>\n      <td>主治医师</td>\n      <td>北京</td>\n      <td>1</td>\n      <td>0</td>\n      <td>儿童强，中国强！                        儿科大夫的使命：让每个儿童拥...</td>\n      <td>1.000000</td>\n      <td>0.693147</td>\n      <td>-9.136464</td>\n      <td>一线城市</td>\n      <td>59.0</td>\n      <td>3481.0</td>\n      <td>2</td>\n    </tr>\n    <tr>\n      <th>1</th>\n      <td>主治医师</td>\n      <td>成都</td>\n      <td>0</td>\n      <td>5</td>\n      <td>专业有爱的儿科医生                        作为一位女儿的爸爸，我深深...</td>\n      <td>0.994603</td>\n      <td>0.690445</td>\n      <td>-9.717606</td>\n      <td>二线城市</td>\n      <td>128.0</td>\n      <td>16384.0</td>\n      <td>2</td>\n    </tr>\n  </tbody>\n</table>\n</div>"
     },
     "metadata": {},
     "output_type": "execute_result",
     "execution_count": 3
    }
   ],
   "source": [
    "p_data.drop(['Unnamed: 0.1.1','Unnamed: 0.1','Unnamed: 0'], axis=1, inplace=True)\n",
    "p_data.head(2)"
   ],
   "metadata": {
    "collapsed": false,
    "pycharm": {
     "name": "#%%\n",
     "is_executing": false
    }
   }
  },
  {
   "cell_type": "code",
   "execution_count": 4,
   "outputs": [
    {
     "data": {
      "text/plain": "   profession_1  profession_2  profession_3  profession_4  profession_5\n0             0             1             0             0             0\n1             0             1             0             0             0\n2             0             0             0             0             0\n3             0             0             0             1             0\n4             0             0             0             1             0\n5             0             0             0             1             0\n6             0             0             0             0             0\n7             0             0             0             1             0\n8             0             0             0             0             1\n9             0             0             0             0             0",
      "text/html": "<div>\n<style scoped>\n    .dataframe tbody tr th:only-of-type {\n        vertical-align: middle;\n    }\n\n    .dataframe tbody tr th {\n        vertical-align: top;\n    }\n\n    .dataframe thead th {\n        text-align: right;\n    }\n</style>\n<table border=\"1\" class=\"dataframe\">\n  <thead>\n    <tr style=\"text-align: right;\">\n      <th></th>\n      <th>profession_1</th>\n      <th>profession_2</th>\n      <th>profession_3</th>\n      <th>profession_4</th>\n      <th>profession_5</th>\n    </tr>\n  </thead>\n  <tbody>\n    <tr>\n      <th>0</th>\n      <td>0</td>\n      <td>1</td>\n      <td>0</td>\n      <td>0</td>\n      <td>0</td>\n    </tr>\n    <tr>\n      <th>1</th>\n      <td>0</td>\n      <td>1</td>\n      <td>0</td>\n      <td>0</td>\n      <td>0</td>\n    </tr>\n    <tr>\n      <th>2</th>\n      <td>0</td>\n      <td>0</td>\n      <td>0</td>\n      <td>0</td>\n      <td>0</td>\n    </tr>\n    <tr>\n      <th>3</th>\n      <td>0</td>\n      <td>0</td>\n      <td>0</td>\n      <td>1</td>\n      <td>0</td>\n    </tr>\n    <tr>\n      <th>4</th>\n      <td>0</td>\n      <td>0</td>\n      <td>0</td>\n      <td>1</td>\n      <td>0</td>\n    </tr>\n    <tr>\n      <th>5</th>\n      <td>0</td>\n      <td>0</td>\n      <td>0</td>\n      <td>1</td>\n      <td>0</td>\n    </tr>\n    <tr>\n      <th>6</th>\n      <td>0</td>\n      <td>0</td>\n      <td>0</td>\n      <td>0</td>\n      <td>0</td>\n    </tr>\n    <tr>\n      <th>7</th>\n      <td>0</td>\n      <td>0</td>\n      <td>0</td>\n      <td>1</td>\n      <td>0</td>\n    </tr>\n    <tr>\n      <th>8</th>\n      <td>0</td>\n      <td>0</td>\n      <td>0</td>\n      <td>0</td>\n      <td>1</td>\n    </tr>\n    <tr>\n      <th>9</th>\n      <td>0</td>\n      <td>0</td>\n      <td>0</td>\n      <td>0</td>\n      <td>0</td>\n    </tr>\n  </tbody>\n</table>\n</div>"
     },
     "metadata": {},
     "output_type": "execute_result",
     "execution_count": 4
    }
   ],
   "source": [
    "from sklearn import preprocessing\n",
    "dummy_pro = pd.get_dummies(p_data['profession_encoding'],prefix='profession')\n",
    "# dummy_pro.head(20)\n",
    "dummy_pro.drop(['profession_0'], axis=1, inplace=True)\n",
    "dummy_city = pd.get_dummies(p_data['城市等级'],prefix='city')\n",
    "dummy_city.drop(['city_其他'], axis=1, inplace=True)\n",
    "dummy_pro.head(10)"
   ],
   "metadata": {
    "collapsed": false,
    "pycharm": {
     "name": "#%%\n",
     "is_executing": false
    }
   }
  },
  {
   "cell_type": "code",
   "execution_count": 6,
   "outputs": [
    {
     "data": {
      "text/plain": "    医生职称 医生所在城市  医生有无简介  总文章数  \\\n0   主治医师     北京       1     0   \n1   主治医师     成都       0     5   \n2   住院医师     青岛       0    12   \n3   主任医师     济南       1     1   \n4  副主任医师     北京       1     0   \n\n                                               医生欢迎词  IST0_1erke  log(IST)  \\\n0  儿童强，中国强！                        儿科大夫的使命：让每个儿童拥...    1.000000  0.693147   \n1  专业有爱的儿科医生                        作为一位女儿的爸爸，我深深...    0.994603  0.690445   \n2  山东大学齐鲁医院（青岛）儿外科竭诚为每一位患儿服务...                  ...    0.779989  0.576607   \n3                                                  0    0.682372  0.520205   \n4                                                  0    0.613790  0.478586   \n\n      患者满意度  城市等级  欢迎词字数     字数平方  profession_encoding  city_一线城市  city_二线城市  \\\n0 -9.136464  一线城市   59.0   3481.0                    2          1          0   \n1 -9.717606  二线城市  128.0  16384.0                    2          0          1   \n2 -7.881956  二线城市  111.0  12321.0                    0          0          1   \n3 -7.616372  二线城市    0.0      0.0                    4          0          1   \n4 -9.864238  一线城市    0.0      0.0                    4          1          0   \n\n   profession_1  profession_2  profession_3  profession_4  profession_5  \n0             0             1             0             0             0  \n1             0             1             0             0             0  \n2             0             0             0             0             0  \n3             0             0             0             1             0  \n4             0             0             0             1             0  ",
      "text/html": "<div>\n<style scoped>\n    .dataframe tbody tr th:only-of-type {\n        vertical-align: middle;\n    }\n\n    .dataframe tbody tr th {\n        vertical-align: top;\n    }\n\n    .dataframe thead th {\n        text-align: right;\n    }\n</style>\n<table border=\"1\" class=\"dataframe\">\n  <thead>\n    <tr style=\"text-align: right;\">\n      <th></th>\n      <th>医生职称</th>\n      <th>医生所在城市</th>\n      <th>医生有无简介</th>\n      <th>总文章数</th>\n      <th>医生欢迎词</th>\n      <th>IST0_1erke</th>\n      <th>log(IST)</th>\n      <th>患者满意度</th>\n      <th>城市等级</th>\n      <th>欢迎词字数</th>\n      <th>字数平方</th>\n      <th>profession_encoding</th>\n      <th>city_一线城市</th>\n      <th>city_二线城市</th>\n      <th>profession_1</th>\n      <th>profession_2</th>\n      <th>profession_3</th>\n      <th>profession_4</th>\n      <th>profession_5</th>\n    </tr>\n  </thead>\n  <tbody>\n    <tr>\n      <th>0</th>\n      <td>主治医师</td>\n      <td>北京</td>\n      <td>1</td>\n      <td>0</td>\n      <td>儿童强，中国强！                        儿科大夫的使命：让每个儿童拥...</td>\n      <td>1.000000</td>\n      <td>0.693147</td>\n      <td>-9.136464</td>\n      <td>一线城市</td>\n      <td>59.0</td>\n      <td>3481.0</td>\n      <td>2</td>\n      <td>1</td>\n      <td>0</td>\n      <td>0</td>\n      <td>1</td>\n      <td>0</td>\n      <td>0</td>\n      <td>0</td>\n    </tr>\n    <tr>\n      <th>1</th>\n      <td>主治医师</td>\n      <td>成都</td>\n      <td>0</td>\n      <td>5</td>\n      <td>专业有爱的儿科医生                        作为一位女儿的爸爸，我深深...</td>\n      <td>0.994603</td>\n      <td>0.690445</td>\n      <td>-9.717606</td>\n      <td>二线城市</td>\n      <td>128.0</td>\n      <td>16384.0</td>\n      <td>2</td>\n      <td>0</td>\n      <td>1</td>\n      <td>0</td>\n      <td>1</td>\n      <td>0</td>\n      <td>0</td>\n      <td>0</td>\n    </tr>\n    <tr>\n      <th>2</th>\n      <td>住院医师</td>\n      <td>青岛</td>\n      <td>0</td>\n      <td>12</td>\n      <td>山东大学齐鲁医院（青岛）儿外科竭诚为每一位患儿服务...                  ...</td>\n      <td>0.779989</td>\n      <td>0.576607</td>\n      <td>-7.881956</td>\n      <td>二线城市</td>\n      <td>111.0</td>\n      <td>12321.0</td>\n      <td>0</td>\n      <td>0</td>\n      <td>1</td>\n      <td>0</td>\n      <td>0</td>\n      <td>0</td>\n      <td>0</td>\n      <td>0</td>\n    </tr>\n    <tr>\n      <th>3</th>\n      <td>主任医师</td>\n      <td>济南</td>\n      <td>1</td>\n      <td>1</td>\n      <td>0</td>\n      <td>0.682372</td>\n      <td>0.520205</td>\n      <td>-7.616372</td>\n      <td>二线城市</td>\n      <td>0.0</td>\n      <td>0.0</td>\n      <td>4</td>\n      <td>0</td>\n      <td>1</td>\n      <td>0</td>\n      <td>0</td>\n      <td>0</td>\n      <td>1</td>\n      <td>0</td>\n    </tr>\n    <tr>\n      <th>4</th>\n      <td>副主任医师</td>\n      <td>北京</td>\n      <td>1</td>\n      <td>0</td>\n      <td>0</td>\n      <td>0.613790</td>\n      <td>0.478586</td>\n      <td>-9.864238</td>\n      <td>一线城市</td>\n      <td>0.0</td>\n      <td>0.0</td>\n      <td>4</td>\n      <td>1</td>\n      <td>0</td>\n      <td>0</td>\n      <td>0</td>\n      <td>0</td>\n      <td>1</td>\n      <td>0</td>\n    </tr>\n  </tbody>\n</table>\n</div>"
     },
     "metadata": {},
     "output_type": "execute_result",
     "execution_count": 6
    }
   ],
   "source": [
    "data = pd.concat([p_data,dummy_city,dummy_pro],axis=1)\n",
    "data.head(5)"
   ],
   "metadata": {
    "collapsed": false,
    "pycharm": {
     "name": "#%%\n",
     "is_executing": false
    }
   }
  },
  {
   "cell_type": "code",
   "execution_count": 7,
   "outputs": [],
   "source": [
    "data.to_csv('D:/桌面/total_data.csv')\n",
    "df1 = data.loc[data['城市等级'] =='一线城市']\n",
    "df2 = data.loc[data['城市等级'] =='二线城市']\n",
    "df3 = data.loc[data['城市等级'] =='其他']\n",
    "df1.to_csv(\"D:/桌面/data_一线城市.csv\")\n",
    "df2.to_csv(\"D:/桌面/data_二线城市.csv\")\n",
    "df3.to_csv(\"D:/桌面/data_其他.csv\")\n"
   ],
   "metadata": {
    "collapsed": false,
    "pycharm": {
     "name": "#%%\n",
     "is_executing": false
    }
   }
  }
 ],
 "metadata": {
  "kernelspec": {
   "name": "python3",
   "language": "python",
   "display_name": "Python 3"
  },
  "language_info": {
   "codemirror_mode": {
    "name": "ipython",
    "version": 2
   },
   "file_extension": ".py",
   "mimetype": "text/x-python",
   "name": "python",
   "nbconvert_exporter": "python",
   "pygments_lexer": "ipython2",
   "version": "2.7.6"
  },
  "pycharm": {
   "stem_cell": {
    "cell_type": "raw",
    "source": [],
    "metadata": {
     "collapsed": false
    }
   }
  }
 },
 "nbformat": 4,
 "nbformat_minor": 0
}