{
 "cells": [
  {
   "cell_type": "markdown",
   "source": [
    "## 删除无关变量"
   ],
   "metadata": {
    "collapsed": false,
    "pycharm": {
     "name": "#%% md\n"
    }
   }
  },
  {
   "cell_type": "code",
   "execution_count": 19,
   "metadata": {
    "collapsed": true,
    "pycharm": {
     "is_executing": false
    }
   },
   "outputs": [],
   "source": [
    "import pandas as pd\n",
    "import numpy as np\n",
    "data_ori = pd.read_csv(\"D:/桌面/total_data.csv\")\n",
    "# data_ori.head(2)\n",
    "\n",
    "x = [0,1,2,5,6,9,12]\n",
    "data_ori.drop(data_ori.columns[x], axis=1, inplace=True)\n",
    "data = data_ori\n",
    "data['intercept'] = 1"
   ]
  },
  {
   "cell_type": "markdown",
   "source": [
    "## 建立总体模型\n"
   ],
   "metadata": {
    "collapsed": false,
    "pycharm": {
     "name": "#%% md\n"
    }
   }
  },
  {
   "cell_type": "code",
   "execution_count": 21,
   "outputs": [
    {
     "name": "stdout",
     "text": [
      "线性回归算法w值： [ 1.92936494e-03  4.35683895e-04  8.60063171e-05  8.80302153e-04\n",
      " -3.23414843e-06  3.91123756e-02  2.79607301e-02 -2.24178131e-02\n",
      " -1.00475437e-02 -1.82847413e-02 -9.34905688e-03 -1.52301430e-02\n",
      "  0.00000000e+00]\n",
      "线性回归算法b值:  0.03366503544981141\n"
     ],
     "output_type": "stream"
    }
   ],
   "source": [
    "# from sklearn.linear_model import LinearRegression\n",
    "# from sklearn.linear_model import LinearRegression\n",
    "# X = data.drop('log(IST)', axis=1)\n",
    "# lm = LinearRegression()\n",
    "# lm.fit(X, data['log(IST)'])\n",
    "# print('线性回归算法w值：', lm.coef_)\n",
    "# print('线性回归算法b值: ', lm.intercept_)"
   ],
   "metadata": {
    "collapsed": false,
    "pycharm": {
     "name": "#%%\n",
     "is_executing": false
    }
   }
  },
  {
   "cell_type": "code",
   "execution_count": 24,
   "outputs": [
    {
     "name": "stdout",
     "text": [
      "医生有无简介          0.001929\n",
      "总文章数            0.000436\n",
      "患者满意度           0.000086\n",
      "欢迎词字数           0.000880\n",
      "字数平方           -0.000003\n",
      "city_一线城市       0.039112\n",
      "city_二线城市       0.027961\n",
      "profession_1   -0.022418\n",
      "profession_2   -0.010048\n",
      "profession_3   -0.018285\n",
      "profession_4   -0.009349\n",
      "profession_5   -0.015230\n",
      "intercept       0.033665\n",
      "dtype: float64\n",
      "                            OLS Regression Results                            \n",
      "==============================================================================\n",
      "Dep. Variable:               log(IST)   R-squared:                       0.074\n",
      "Model:                            OLS   Adj. R-squared:                  0.049\n",
      "Method:                 Least Squares   F-statistic:                     2.946\n",
      "Date:                Sat, 27 Mar 2021   Prob (F-statistic):           0.000586\n",
      "Time:                        15:40:12   Log-Likelihood:                 440.92\n",
      "No. Observations:                 454   AIC:                            -855.8\n",
      "Df Residuals:                     441   BIC:                            -802.3\n",
      "Df Model:                          12                                         \n",
      "Covariance Type:            nonrobust                                         \n",
      "================================================================================\n",
      "                   coef    std err          t      P>|t|      [0.025      0.975]\n",
      "--------------------------------------------------------------------------------\n",
      "医生有无简介           0.0019      0.011      0.170      0.865      -0.020       0.024\n",
      "总文章数             0.0004      0.001      0.593      0.554      -0.001       0.002\n",
      "患者满意度         8.601e-05   8.88e-05      0.968      0.334   -8.86e-05       0.000\n",
      "欢迎词字数            0.0009      0.000      3.983      0.000       0.000       0.001\n",
      "字数平方         -3.234e-06   9.32e-07     -3.470      0.001   -5.07e-06    -1.4e-06\n",
      "city_一线城市        0.0391      0.012      3.185      0.002       0.015       0.063\n",
      "city_二线城市        0.0280      0.011      2.567      0.011       0.007       0.049\n",
      "profession_1    -0.0224      0.040     -0.555      0.579      -0.102       0.057\n",
      "profession_2    -0.0100      0.016     -0.633      0.527      -0.041       0.021\n",
      "profession_3    -0.0183      0.024     -0.755      0.451      -0.066       0.029\n",
      "profession_4    -0.0093      0.016     -0.592      0.554      -0.040       0.022\n",
      "profession_5    -0.0152      0.017     -0.894      0.372      -0.049       0.018\n",
      "intercept        0.0337      0.015      2.294      0.022       0.005       0.063\n",
      "==============================================================================\n",
      "Omnibus:                      331.996   Durbin-Watson:                   0.136\n",
      "Prob(Omnibus):                  0.000   Jarque-Bera (JB):             3700.962\n",
      "Skew:                           3.184   Prob(JB):                         0.00\n",
      "Kurtosis:                      15.454   Cond. No.                     1.71e+05\n",
      "==============================================================================\n",
      "\n",
      "Notes:\n",
      "[1] Standard Errors assume that the covariance matrix of the errors is correctly specified.\n",
      "[2] The condition number is large, 1.71e+05. This might indicate that there are\n",
      "strong multicollinearity or other numerical problems.\n"
     ],
     "output_type": "stream"
    }
   ],
   "source": [
    "from statsmodels.api import OLS\n",
    "X = data.drop('log(IST)', axis=1)\n",
    "results = OLS( data['log(IST)'],X).fit()\n",
    "print(results.params)\n",
    "print(results.summary())\n",
    "\n"
   ],
   "metadata": {
    "collapsed": false,
    "pycharm": {
     "name": "#%%\n",
     "is_executing": false
    }
   }
  },
  {
   "cell_type": "code",
   "execution_count": 27,
   "outputs": [
    {
     "name": "stdout",
     "text": [
      "医生有无简介          2.067107e-02\n",
      "总文章数           -1.291410e-04\n",
      "患者满意度           9.943432e-05\n",
      "欢迎词字数           1.045984e-03\n",
      "字数平方           -3.678353e-06\n",
      "profession_1   -4.114852e-16\n",
      "profession_2   -2.589737e-02\n",
      "profession_3   -5.042546e-02\n",
      "profession_4   -5.169177e-02\n",
      "profession_5   -6.765895e-02\n",
      "intercept       8.899909e-02\n",
      "dtype: float64\n",
      "                            OLS Regression Results                            \n",
      "==============================================================================\n",
      "Dep. Variable:               log(IST)   R-squared:                       0.073\n",
      "Model:                            OLS   Adj. R-squared:                  0.004\n",
      "Method:                 Least Squares   F-statistic:                     1.053\n",
      "Date:                Sat, 27 Mar 2021   Prob (F-statistic):              0.402\n",
      "Time:                        15:46:04   Log-Likelihood:                 116.23\n",
      "No. Observations:                 131   AIC:                            -212.5\n",
      "Df Residuals:                     121   BIC:                            -183.7\n",
      "Df Model:                           9                                         \n",
      "Covariance Type:            nonrobust                                         \n",
      "================================================================================\n",
      "                   coef    std err          t      P>|t|      [0.025      0.975]\n",
      "--------------------------------------------------------------------------------\n",
      "医生有无简介           0.0207      0.027      0.754      0.452      -0.034       0.075\n",
      "总文章数            -0.0001      0.002     -0.084      0.933      -0.003       0.003\n",
      "患者满意度         9.943e-05      0.000      0.953      0.343      -0.000       0.000\n",
      "欢迎词字数            0.0010      0.000      2.115      0.037    6.67e-05       0.002\n",
      "字数平方         -3.678e-06   2.02e-06     -1.819      0.071   -7.68e-06    3.26e-07\n",
      "profession_1 -4.115e-16   2.12e-16     -1.940      0.055   -8.31e-16    8.46e-18\n",
      "profession_2    -0.0259      0.033     -0.779      0.438      -0.092       0.040\n",
      "profession_3    -0.0504      0.060     -0.846      0.399      -0.168       0.068\n",
      "profession_4    -0.0517      0.032     -1.609      0.110      -0.115       0.012\n",
      "profession_5    -0.0677      0.035     -1.948      0.054      -0.136       0.001\n",
      "intercept        0.0890      0.030      2.941      0.004       0.029       0.149\n",
      "==============================================================================\n",
      "Omnibus:                       96.072   Durbin-Watson:                   0.172\n",
      "Prob(Omnibus):                  0.000   Jarque-Bera (JB):              619.702\n",
      "Skew:                           2.646   Prob(JB):                    2.71e-135\n",
      "Kurtosis:                      12.248   Cond. No.                     7.52e+20\n",
      "==============================================================================\n",
      "\n",
      "Notes:\n",
      "[1] Standard Errors assume that the covariance matrix of the errors is correctly specified.\n",
      "[2] The smallest eigenvalue is 1.17e-31. This might indicate that there are\n",
      "strong multicollinearity problems or that the design matrix is singular.\n"
     ],
     "output_type": "stream"
    }
   ],
   "source": [
    "# 一线城市情况\n",
    "data_ori = pd.read_csv(\"D:/桌面/data_一线城市.csv\")\n",
    "# data_ori.head(2)\n",
    "\n",
    "x = [0,1,2,5,6,9,12,13,14]\n",
    "data_ori.drop(data_ori.columns[x], axis=1, inplace=True)\n",
    "data = data_ori\n",
    "data['intercept'] = 1\n",
    "data.head(2)\n",
    "from statsmodels.api import OLS\n",
    "X = data.drop('log(IST)', axis=1)\n",
    "results = OLS( data['log(IST)'],X).fit()\n",
    "print(results.params)\n",
    "print(results.summary())"
   ],
   "metadata": {
    "collapsed": false,
    "pycharm": {
     "name": "#%%\n",
     "is_executing": false
    }
   }
  },
  {
   "cell_type": "code",
   "execution_count": 28,
   "outputs": [
    {
     "name": "stdout",
     "text": [
      "医生有无简介         -0.014298\n",
      "总文章数            0.001183\n",
      "患者满意度           0.000213\n",
      "欢迎词字数           0.001041\n",
      "字数平方           -0.000004\n",
      "profession_1    0.015723\n",
      "profession_2   -0.022188\n",
      "profession_3   -0.006677\n",
      "profession_4    0.001739\n",
      "profession_5    0.002524\n",
      "intercept       0.065409\n",
      "dtype: float64\n",
      "                            OLS Regression Results                            \n",
      "==============================================================================\n",
      "Dep. Variable:               log(IST)   R-squared:                       0.065\n",
      "Model:                            OLS   Adj. R-squared:                  0.017\n",
      "Method:                 Least Squares   F-statistic:                     1.357\n",
      "Date:                Sat, 27 Mar 2021   Prob (F-statistic):              0.203\n",
      "Time:                        15:48:57   Log-Likelihood:                 181.68\n",
      "No. Observations:                 206   AIC:                            -341.4\n",
      "Df Residuals:                     195   BIC:                            -304.8\n",
      "Df Model:                          10                                         \n",
      "Covariance Type:            nonrobust                                         \n",
      "================================================================================\n",
      "                   coef    std err          t      P>|t|      [0.025      0.975]\n",
      "--------------------------------------------------------------------------------\n",
      "医生有无简介          -0.0143      0.019     -0.748      0.455      -0.052       0.023\n",
      "总文章数             0.0012      0.001      0.984      0.326      -0.001       0.004\n",
      "患者满意度            0.0002      0.001      0.417      0.677      -0.001       0.001\n",
      "欢迎词字数            0.0010      0.000      2.966      0.003       0.000       0.002\n",
      "字数平方         -4.311e-06    1.5e-06     -2.881      0.004   -7.26e-06   -1.36e-06\n",
      "profession_1     0.0157      0.065      0.241      0.810      -0.113       0.145\n",
      "profession_2    -0.0222      0.028     -0.803      0.423      -0.077       0.032\n",
      "profession_3    -0.0067      0.038     -0.175      0.861      -0.082       0.069\n",
      "profession_4     0.0017      0.028      0.062      0.951      -0.054       0.057\n",
      "profession_5     0.0025      0.029      0.087      0.931      -0.055       0.060\n",
      "intercept        0.0654      0.023      2.815      0.005       0.020       0.111\n",
      "==============================================================================\n",
      "Omnibus:                      160.521   Durbin-Watson:                   0.134\n",
      "Prob(Omnibus):                  0.000   Jarque-Bera (JB):             1392.255\n",
      "Skew:                           3.137   Prob(JB):                    4.74e-303\n",
      "Kurtosis:                      14.084   Cond. No.                     1.56e+05\n",
      "==============================================================================\n",
      "\n",
      "Notes:\n",
      "[1] Standard Errors assume that the covariance matrix of the errors is correctly specified.\n",
      "[2] The condition number is large, 1.56e+05. This might indicate that there are\n",
      "strong multicollinearity or other numerical problems.\n"
     ],
     "output_type": "stream"
    }
   ],
   "source": [
    "# 二线城市情况\n",
    "data_ori = pd.read_csv(\"D:/桌面/data_二线城市.csv\")\n",
    "# data_ori.head(2)\n",
    "\n",
    "x = [0,1,2,5,6,9,12,13,14]\n",
    "data_ori.drop(data_ori.columns[x], axis=1, inplace=True)\n",
    "data = data_ori\n",
    "data['intercept'] = 1\n",
    "data.head(2)\n",
    "from statsmodels.api import OLS\n",
    "X = data.drop('log(IST)', axis=1)\n",
    "results = OLS( data['log(IST)'],X).fit()\n",
    "print(results.params)\n",
    "print(results.summary())\n",
    "\n",
    "\n"
   ],
   "metadata": {
    "collapsed": false,
    "pycharm": {
     "name": "#%%\n",
     "is_executing": false
    }
   }
  },
  {
   "cell_type": "code",
   "execution_count": 29,
   "outputs": [
    {
     "name": "stdout",
     "text": [
      "医生有无简介          2.411920e-03\n",
      "总文章数            4.872154e-04\n",
      "患者满意度          -2.918077e-04\n",
      "欢迎词字数           3.757091e-04\n",
      "字数平方           -6.183594e-07\n",
      "profession_1   -1.913760e-02\n",
      "profession_2    2.267641e-02\n",
      "profession_3   -3.405905e-03\n",
      "profession_4    1.758435e-02\n",
      "profession_5    1.550912e-02\n",
      "intercept       7.640506e-03\n",
      "dtype: float64\n",
      "                            OLS Regression Results                            \n",
      "==============================================================================\n",
      "Dep. Variable:               log(IST)   R-squared:                       0.112\n",
      "Model:                            OLS   Adj. R-squared:                  0.028\n",
      "Method:                 Least Squares   F-statistic:                     1.339\n",
      "Date:                Sat, 27 Mar 2021   Prob (F-statistic):              0.220\n",
      "Time:                        15:50:19   Log-Likelihood:                 175.95\n",
      "No. Observations:                 117   AIC:                            -329.9\n",
      "Df Residuals:                     106   BIC:                            -299.5\n",
      "Df Model:                          10                                         \n",
      "Covariance Type:            nonrobust                                         \n",
      "================================================================================\n",
      "                   coef    std err          t      P>|t|      [0.025      0.975]\n",
      "--------------------------------------------------------------------------------\n",
      "医生有无简介           0.0024      0.012      0.197      0.844      -0.022       0.027\n",
      "总文章数             0.0005      0.001      0.409      0.684      -0.002       0.003\n",
      "患者满意度           -0.0003      0.004     -0.076      0.939      -0.008       0.007\n",
      "欢迎词字数            0.0004      0.000      1.246      0.215      -0.000       0.001\n",
      "字数平方         -6.184e-07   1.34e-06     -0.462      0.645   -3.27e-06    2.03e-06\n",
      "profession_1    -0.0191      0.036     -0.535      0.594      -0.090       0.052\n",
      "profession_2     0.0227      0.018      1.271      0.206      -0.013       0.058\n",
      "profession_3    -0.0034      0.029     -0.116      0.908      -0.062       0.055\n",
      "profession_4     0.0176      0.018      0.998      0.320      -0.017       0.053\n",
      "profession_5     0.0155      0.022      0.708      0.480      -0.028       0.059\n",
      "intercept        0.0076      0.042      0.184      0.855      -0.075       0.090\n",
      "==============================================================================\n",
      "Omnibus:                       80.622   Durbin-Watson:                   0.252\n",
      "Prob(Omnibus):                  0.000   Jarque-Bera (JB):              377.692\n",
      "Skew:                           2.515   Prob(JB):                     9.66e-83\n",
      "Kurtosis:                      10.223   Cond. No.                     1.25e+05\n",
      "==============================================================================\n",
      "\n",
      "Notes:\n",
      "[1] Standard Errors assume that the covariance matrix of the errors is correctly specified.\n",
      "[2] The condition number is large, 1.25e+05. This might indicate that there are\n",
      "strong multicollinearity or other numerical problems.\n"
     ],
     "output_type": "stream"
    }
   ],
   "source": [
    "# 其他城市情况\n",
    "data_ori = pd.read_csv(\"D:/桌面/data_其他.csv\")\n",
    "# data_ori.head(2)\n",
    "\n",
    "x = [0,1,2,5,6,9,12,13,14]\n",
    "data_ori.drop(data_ori.columns[x], axis=1, inplace=True)\n",
    "data = data_ori\n",
    "data['intercept'] = 1\n",
    "data.head(2)\n",
    "from statsmodels.api import OLS\n",
    "X = data.drop('log(IST)', axis=1)\n",
    "results = OLS( data['log(IST)'],X).fit()\n",
    "print(results.params)\n",
    "print(results.summary())\n",
    "\n"
   ],
   "metadata": {
    "collapsed": false,
    "pycharm": {
     "name": "#%%\n",
     "is_executing": false
    }
   }
  }
 ],
 "metadata": {
  "kernelspec": {
   "display_name": "Python 3",
   "language": "python",
   "name": "python3"
  },
  "language_info": {
   "codemirror_mode": {
    "name": "ipython",
    "version": 2
   },
   "file_extension": ".py",
   "mimetype": "text/x-python",
   "name": "python",
   "nbconvert_exporter": "python",
   "pygments_lexer": "ipython2",
   "version": "2.7.6"
  },
  "pycharm": {
   "stem_cell": {
    "cell_type": "raw",
    "source": [],
    "metadata": {
     "collapsed": false
    }
   }
  }
 },
 "nbformat": 4,
 "nbformat_minor": 0
}